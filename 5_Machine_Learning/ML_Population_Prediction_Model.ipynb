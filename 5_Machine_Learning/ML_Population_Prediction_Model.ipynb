{
 "cells": [
  {
   "cell_type": "markdown",
   "metadata": {},
   "source": [
    "## 1. Import Data"
   ]
  },
  {
   "cell_type": "code",
   "execution_count": 1,
   "metadata": {},
   "outputs": [],
   "source": [
    "import pandas as pd\n",
    "import numpy as np\n",
    "from sklearn.model_selection import train_test_split\n",
    "from sklearn.preprocessing import StandardScaler, OneHotEncoder\n",
    "from sklearn.compose import ColumnTransformer\n",
    "from sklearn.linear_model import LinearRegression\n",
    "import seaborn as sns \n",
    "import matplotlib.pyplot as plt \n",
    "from sklearn import metrics"
   ]
  },
  {
   "cell_type": "code",
   "execution_count": 2,
   "metadata": {},
   "outputs": [],
   "source": [
    "df_217 = pd.read_csv('217_countries_population.csv', index_col=0)"
   ]
  },
  {
   "cell_type": "code",
   "execution_count": 3,
   "metadata": {},
   "outputs": [
    {
     "data": {
      "text/html": [
       "<div>\n",
       "<style scoped>\n",
       "    .dataframe tbody tr th:only-of-type {\n",
       "        vertical-align: middle;\n",
       "    }\n",
       "\n",
       "    .dataframe tbody tr th {\n",
       "        vertical-align: top;\n",
       "    }\n",
       "\n",
       "    .dataframe thead th {\n",
       "        text-align: right;\n",
       "    }\n",
       "</style>\n",
       "<table border=\"1\" class=\"dataframe\">\n",
       "  <thead>\n",
       "    <tr style=\"text-align: right;\">\n",
       "      <th></th>\n",
       "      <th>Country Name</th>\n",
       "      <th>Country Code</th>\n",
       "      <th>Year</th>\n",
       "      <th>Birth Rate</th>\n",
       "      <th>Death_Rate</th>\n",
       "      <th>Population_65_above</th>\n",
       "      <th>population_growth_rate</th>\n",
       "      <th>Population_male</th>\n",
       "      <th>Population_female</th>\n",
       "      <th>Population_total</th>\n",
       "      <th>Life_expectancy_in_years</th>\n",
       "    </tr>\n",
       "  </thead>\n",
       "  <tbody>\n",
       "    <tr>\n",
       "      <th>0</th>\n",
       "      <td>Aruba</td>\n",
       "      <td>ABW</td>\n",
       "      <td>2000</td>\n",
       "      <td>14.427</td>\n",
       "      <td>6.335</td>\n",
       "      <td>6165.0</td>\n",
       "      <td>2.539234</td>\n",
       "      <td>42833</td>\n",
       "      <td>46269</td>\n",
       "      <td>89101</td>\n",
       "      <td>73.569</td>\n",
       "    </tr>\n",
       "    <tr>\n",
       "      <th>1</th>\n",
       "      <td>Afghanistan</td>\n",
       "      <td>AFG</td>\n",
       "      <td>2000</td>\n",
       "      <td>49.664</td>\n",
       "      <td>12.096</td>\n",
       "      <td>446519.0</td>\n",
       "      <td>1.443803</td>\n",
       "      <td>9815442</td>\n",
       "      <td>9727541</td>\n",
       "      <td>19542982</td>\n",
       "      <td>55.298</td>\n",
       "    </tr>\n",
       "    <tr>\n",
       "      <th>2</th>\n",
       "      <td>Angola</td>\n",
       "      <td>AGO</td>\n",
       "      <td>2000</td>\n",
       "      <td>47.647</td>\n",
       "      <td>18.287</td>\n",
       "      <td>397810.0</td>\n",
       "      <td>3.244121</td>\n",
       "      <td>8054751</td>\n",
       "      <td>8339311</td>\n",
       "      <td>16394062</td>\n",
       "      <td>46.024</td>\n",
       "    </tr>\n",
       "    <tr>\n",
       "      <th>3</th>\n",
       "      <td>Albania</td>\n",
       "      <td>ALB</td>\n",
       "      <td>2000</td>\n",
       "      <td>17.076</td>\n",
       "      <td>5.798</td>\n",
       "      <td>241623.0</td>\n",
       "      <td>-0.637357</td>\n",
       "      <td>1531486</td>\n",
       "      <td>1557540</td>\n",
       "      <td>3089027</td>\n",
       "      <td>75.404</td>\n",
       "    </tr>\n",
       "    <tr>\n",
       "      <th>4</th>\n",
       "      <td>Andorra</td>\n",
       "      <td>AND</td>\n",
       "      <td>2000</td>\n",
       "      <td>11.300</td>\n",
       "      <td>0.000</td>\n",
       "      <td>8406.0</td>\n",
       "      <td>0.670960</td>\n",
       "      <td>34285</td>\n",
       "      <td>31812</td>\n",
       "      <td>66097</td>\n",
       "      <td>0.000</td>\n",
       "    </tr>\n",
       "    <tr>\n",
       "      <th>...</th>\n",
       "      <td>...</td>\n",
       "      <td>...</td>\n",
       "      <td>...</td>\n",
       "      <td>...</td>\n",
       "      <td>...</td>\n",
       "      <td>...</td>\n",
       "      <td>...</td>\n",
       "      <td>...</td>\n",
       "      <td>...</td>\n",
       "      <td>...</td>\n",
       "      <td>...</td>\n",
       "    </tr>\n",
       "    <tr>\n",
       "      <th>4769</th>\n",
       "      <td>Kosovo</td>\n",
       "      <td>XKX</td>\n",
       "      <td>2021</td>\n",
       "      <td>11.143</td>\n",
       "      <td>7.220</td>\n",
       "      <td>177017.0</td>\n",
       "      <td>-0.229016</td>\n",
       "      <td>890237</td>\n",
       "      <td>895801</td>\n",
       "      <td>1786038</td>\n",
       "      <td>76.806</td>\n",
       "    </tr>\n",
       "    <tr>\n",
       "      <th>4770</th>\n",
       "      <td>Yemen, Rep.</td>\n",
       "      <td>YEM</td>\n",
       "      <td>2021</td>\n",
       "      <td>30.544</td>\n",
       "      <td>6.845</td>\n",
       "      <td>886889.0</td>\n",
       "      <td>2.137790</td>\n",
       "      <td>16668432</td>\n",
       "      <td>16313210</td>\n",
       "      <td>32981641</td>\n",
       "      <td>63.753</td>\n",
       "    </tr>\n",
       "    <tr>\n",
       "      <th>4771</th>\n",
       "      <td>South Africa</td>\n",
       "      <td>ZAF</td>\n",
       "      <td>2021</td>\n",
       "      <td>19.821</td>\n",
       "      <td>11.432</td>\n",
       "      <td>3546983.0</td>\n",
       "      <td>0.998920</td>\n",
       "      <td>28894608</td>\n",
       "      <td>30497646</td>\n",
       "      <td>59392255</td>\n",
       "      <td>62.341</td>\n",
       "    </tr>\n",
       "    <tr>\n",
       "      <th>4772</th>\n",
       "      <td>Zambia</td>\n",
       "      <td>ZMB</td>\n",
       "      <td>2021</td>\n",
       "      <td>34.511</td>\n",
       "      <td>6.973</td>\n",
       "      <td>338624.0</td>\n",
       "      <td>2.840806</td>\n",
       "      <td>9609004</td>\n",
       "      <td>9864121</td>\n",
       "      <td>19473125</td>\n",
       "      <td>61.223</td>\n",
       "    </tr>\n",
       "    <tr>\n",
       "      <th>4773</th>\n",
       "      <td>Zimbabwe</td>\n",
       "      <td>ZWE</td>\n",
       "      <td>2021</td>\n",
       "      <td>30.537</td>\n",
       "      <td>9.057</td>\n",
       "      <td>537917.0</td>\n",
       "      <td>2.045715</td>\n",
       "      <td>7543690</td>\n",
       "      <td>8449834</td>\n",
       "      <td>15993524</td>\n",
       "      <td>59.253</td>\n",
       "    </tr>\n",
       "  </tbody>\n",
       "</table>\n",
       "<p>4774 rows × 11 columns</p>\n",
       "</div>"
      ],
      "text/plain": [
       "      Country Name Country Code  Year  Birth Rate  Death_Rate  \\\n",
       "0            Aruba          ABW  2000      14.427       6.335   \n",
       "1      Afghanistan          AFG  2000      49.664      12.096   \n",
       "2           Angola          AGO  2000      47.647      18.287   \n",
       "3          Albania          ALB  2000      17.076       5.798   \n",
       "4          Andorra          AND  2000      11.300       0.000   \n",
       "...            ...          ...   ...         ...         ...   \n",
       "4769        Kosovo          XKX  2021      11.143       7.220   \n",
       "4770   Yemen, Rep.          YEM  2021      30.544       6.845   \n",
       "4771  South Africa          ZAF  2021      19.821      11.432   \n",
       "4772        Zambia          ZMB  2021      34.511       6.973   \n",
       "4773      Zimbabwe          ZWE  2021      30.537       9.057   \n",
       "\n",
       "      Population_65_above  population_growth_rate  Population_male  \\\n",
       "0                  6165.0                2.539234            42833   \n",
       "1                446519.0                1.443803          9815442   \n",
       "2                397810.0                3.244121          8054751   \n",
       "3                241623.0               -0.637357          1531486   \n",
       "4                  8406.0                0.670960            34285   \n",
       "...                   ...                     ...              ...   \n",
       "4769             177017.0               -0.229016           890237   \n",
       "4770             886889.0                2.137790         16668432   \n",
       "4771            3546983.0                0.998920         28894608   \n",
       "4772             338624.0                2.840806          9609004   \n",
       "4773             537917.0                2.045715          7543690   \n",
       "\n",
       "      Population_female  Population_total  Life_expectancy_in_years  \n",
       "0                 46269             89101                    73.569  \n",
       "1               9727541          19542982                    55.298  \n",
       "2               8339311          16394062                    46.024  \n",
       "3               1557540           3089027                    75.404  \n",
       "4                 31812             66097                     0.000  \n",
       "...                 ...               ...                       ...  \n",
       "4769             895801           1786038                    76.806  \n",
       "4770           16313210          32981641                    63.753  \n",
       "4771           30497646          59392255                    62.341  \n",
       "4772            9864121          19473125                    61.223  \n",
       "4773            8449834          15993524                    59.253  \n",
       "\n",
       "[4774 rows x 11 columns]"
      ]
     },
     "execution_count": 3,
     "metadata": {},
     "output_type": "execute_result"
    }
   ],
   "source": [
    "df_217"
   ]
  },
  {
   "cell_type": "markdown",
   "metadata": {},
   "source": [
    "* We take the data of France to create a model to predict French population"
   ]
  },
  {
   "cell_type": "code",
   "execution_count": 4,
   "metadata": {},
   "outputs": [
    {
     "data": {
      "text/html": [
       "<div>\n",
       "<style scoped>\n",
       "    .dataframe tbody tr th:only-of-type {\n",
       "        vertical-align: middle;\n",
       "    }\n",
       "\n",
       "    .dataframe tbody tr th {\n",
       "        vertical-align: top;\n",
       "    }\n",
       "\n",
       "    .dataframe thead th {\n",
       "        text-align: right;\n",
       "    }\n",
       "</style>\n",
       "<table border=\"1\" class=\"dataframe\">\n",
       "  <thead>\n",
       "    <tr style=\"text-align: right;\">\n",
       "      <th></th>\n",
       "      <th>Year</th>\n",
       "      <th>Birth Rate</th>\n",
       "      <th>Death_Rate</th>\n",
       "      <th>population_growth_rate</th>\n",
       "      <th>Population_total</th>\n",
       "    </tr>\n",
       "  </thead>\n",
       "  <tbody>\n",
       "    <tr>\n",
       "      <th>64</th>\n",
       "      <td>2000</td>\n",
       "      <td>13.3</td>\n",
       "      <td>8.9</td>\n",
       "      <td>0.686783</td>\n",
       "      <td>60921384</td>\n",
       "    </tr>\n",
       "    <tr>\n",
       "      <th>281</th>\n",
       "      <td>2001</td>\n",
       "      <td>13.1</td>\n",
       "      <td>8.8</td>\n",
       "      <td>0.729431</td>\n",
       "      <td>61367388</td>\n",
       "    </tr>\n",
       "    <tr>\n",
       "      <th>498</th>\n",
       "      <td>2002</td>\n",
       "      <td>12.9</td>\n",
       "      <td>8.8</td>\n",
       "      <td>0.728746</td>\n",
       "      <td>61816234</td>\n",
       "    </tr>\n",
       "    <tr>\n",
       "      <th>715</th>\n",
       "      <td>2003</td>\n",
       "      <td>12.8</td>\n",
       "      <td>9.1</td>\n",
       "      <td>0.710448</td>\n",
       "      <td>62256970</td>\n",
       "    </tr>\n",
       "    <tr>\n",
       "      <th>932</th>\n",
       "      <td>2004</td>\n",
       "      <td>12.8</td>\n",
       "      <td>8.3</td>\n",
       "      <td>0.735098</td>\n",
       "      <td>62716306</td>\n",
       "    </tr>\n",
       "    <tr>\n",
       "      <th>1149</th>\n",
       "      <td>2005</td>\n",
       "      <td>12.8</td>\n",
       "      <td>8.5</td>\n",
       "      <td>0.749918</td>\n",
       "      <td>63188395</td>\n",
       "    </tr>\n",
       "    <tr>\n",
       "      <th>1366</th>\n",
       "      <td>2006</td>\n",
       "      <td>13.1</td>\n",
       "      <td>8.3</td>\n",
       "      <td>0.693707</td>\n",
       "      <td>63628261</td>\n",
       "    </tr>\n",
       "    <tr>\n",
       "      <th>1583</th>\n",
       "      <td>2007</td>\n",
       "      <td>12.8</td>\n",
       "      <td>8.3</td>\n",
       "      <td>0.616494</td>\n",
       "      <td>64021737</td>\n",
       "    </tr>\n",
       "    <tr>\n",
       "      <th>1800</th>\n",
       "      <td>2008</td>\n",
       "      <td>12.9</td>\n",
       "      <td>8.5</td>\n",
       "      <td>0.557564</td>\n",
       "      <td>64379696</td>\n",
       "    </tr>\n",
       "    <tr>\n",
       "      <th>2017</th>\n",
       "      <td>2009</td>\n",
       "      <td>12.8</td>\n",
       "      <td>8.5</td>\n",
       "      <td>0.513103</td>\n",
       "      <td>64710879</td>\n",
       "    </tr>\n",
       "    <tr>\n",
       "      <th>2234</th>\n",
       "      <td>2010</td>\n",
       "      <td>12.9</td>\n",
       "      <td>8.5</td>\n",
       "      <td>0.492821</td>\n",
       "      <td>65030575</td>\n",
       "    </tr>\n",
       "    <tr>\n",
       "      <th>2451</th>\n",
       "      <td>2011</td>\n",
       "      <td>12.7</td>\n",
       "      <td>8.4</td>\n",
       "      <td>0.482695</td>\n",
       "      <td>65345233</td>\n",
       "    </tr>\n",
       "    <tr>\n",
       "      <th>2668</th>\n",
       "      <td>2012</td>\n",
       "      <td>12.6</td>\n",
       "      <td>8.7</td>\n",
       "      <td>0.483953</td>\n",
       "      <td>65662240</td>\n",
       "    </tr>\n",
       "    <tr>\n",
       "      <th>2885</th>\n",
       "      <td>2013</td>\n",
       "      <td>12.4</td>\n",
       "      <td>8.7</td>\n",
       "      <td>0.516540</td>\n",
       "      <td>66002289</td>\n",
       "    </tr>\n",
       "    <tr>\n",
       "      <th>3102</th>\n",
       "      <td>2014</td>\n",
       "      <td>12.4</td>\n",
       "      <td>8.4</td>\n",
       "      <td>0.468246</td>\n",
       "      <td>66312067</td>\n",
       "    </tr>\n",
       "    <tr>\n",
       "      <th>3319</th>\n",
       "      <td>2015</td>\n",
       "      <td>12.0</td>\n",
       "      <td>8.9</td>\n",
       "      <td>0.355569</td>\n",
       "      <td>66548272</td>\n",
       "    </tr>\n",
       "    <tr>\n",
       "      <th>3536</th>\n",
       "      <td>2016</td>\n",
       "      <td>11.8</td>\n",
       "      <td>8.9</td>\n",
       "      <td>0.263869</td>\n",
       "      <td>66724104</td>\n",
       "    </tr>\n",
       "    <tr>\n",
       "      <th>3753</th>\n",
       "      <td>2017</td>\n",
       "      <td>11.5</td>\n",
       "      <td>9.1</td>\n",
       "      <td>0.290202</td>\n",
       "      <td>66918020</td>\n",
       "    </tr>\n",
       "    <tr>\n",
       "      <th>3970</th>\n",
       "      <td>2018</td>\n",
       "      <td>11.3</td>\n",
       "      <td>9.1</td>\n",
       "      <td>0.358495</td>\n",
       "      <td>67158348</td>\n",
       "    </tr>\n",
       "    <tr>\n",
       "      <th>4187</th>\n",
       "      <td>2019</td>\n",
       "      <td>11.2</td>\n",
       "      <td>9.1</td>\n",
       "      <td>0.341374</td>\n",
       "      <td>67388001</td>\n",
       "    </tr>\n",
       "    <tr>\n",
       "      <th>4404</th>\n",
       "      <td>2020</td>\n",
       "      <td>10.9</td>\n",
       "      <td>9.9</td>\n",
       "      <td>0.271351</td>\n",
       "      <td>67571107</td>\n",
       "    </tr>\n",
       "    <tr>\n",
       "      <th>4621</th>\n",
       "      <td>2021</td>\n",
       "      <td>10.9</td>\n",
       "      <td>9.7</td>\n",
       "      <td>0.263855</td>\n",
       "      <td>67764304</td>\n",
       "    </tr>\n",
       "  </tbody>\n",
       "</table>\n",
       "</div>"
      ],
      "text/plain": [
       "      Year  Birth Rate  Death_Rate  population_growth_rate  Population_total\n",
       "64    2000        13.3         8.9                0.686783          60921384\n",
       "281   2001        13.1         8.8                0.729431          61367388\n",
       "498   2002        12.9         8.8                0.728746          61816234\n",
       "715   2003        12.8         9.1                0.710448          62256970\n",
       "932   2004        12.8         8.3                0.735098          62716306\n",
       "1149  2005        12.8         8.5                0.749918          63188395\n",
       "1366  2006        13.1         8.3                0.693707          63628261\n",
       "1583  2007        12.8         8.3                0.616494          64021737\n",
       "1800  2008        12.9         8.5                0.557564          64379696\n",
       "2017  2009        12.8         8.5                0.513103          64710879\n",
       "2234  2010        12.9         8.5                0.492821          65030575\n",
       "2451  2011        12.7         8.4                0.482695          65345233\n",
       "2668  2012        12.6         8.7                0.483953          65662240\n",
       "2885  2013        12.4         8.7                0.516540          66002289\n",
       "3102  2014        12.4         8.4                0.468246          66312067\n",
       "3319  2015        12.0         8.9                0.355569          66548272\n",
       "3536  2016        11.8         8.9                0.263869          66724104\n",
       "3753  2017        11.5         9.1                0.290202          66918020\n",
       "3970  2018        11.3         9.1                0.358495          67158348\n",
       "4187  2019        11.2         9.1                0.341374          67388001\n",
       "4404  2020        10.9         9.9                0.271351          67571107\n",
       "4621  2021        10.9         9.7                0.263855          67764304"
      ]
     },
     "execution_count": 4,
     "metadata": {},
     "output_type": "execute_result"
    }
   ],
   "source": [
    "df_FR = df_217.loc[df_217['Country Name'] == 'France',['Year','Birth Rate', 'Death_Rate', 'population_growth_rate', 'Population_total']]\n",
    "df_FR"
   ]
  },
  {
   "cell_type": "code",
   "execution_count": 5,
   "metadata": {},
   "outputs": [
    {
     "data": {
      "text/html": [
       "<div>\n",
       "<style scoped>\n",
       "    .dataframe tbody tr th:only-of-type {\n",
       "        vertical-align: middle;\n",
       "    }\n",
       "\n",
       "    .dataframe tbody tr th {\n",
       "        vertical-align: top;\n",
       "    }\n",
       "\n",
       "    .dataframe thead th {\n",
       "        text-align: right;\n",
       "    }\n",
       "</style>\n",
       "<table border=\"1\" class=\"dataframe\">\n",
       "  <thead>\n",
       "    <tr style=\"text-align: right;\">\n",
       "      <th></th>\n",
       "      <th>Year</th>\n",
       "      <th>Birth Rate</th>\n",
       "      <th>Death_Rate</th>\n",
       "      <th>population_growth_rate</th>\n",
       "      <th>Population_total</th>\n",
       "    </tr>\n",
       "  </thead>\n",
       "  <tbody>\n",
       "    <tr>\n",
       "      <th>count</th>\n",
       "      <td>22.000000</td>\n",
       "      <td>22.000000</td>\n",
       "      <td>22.000000</td>\n",
       "      <td>22.000000</td>\n",
       "      <td>2.200000e+01</td>\n",
       "    </tr>\n",
       "    <tr>\n",
       "      <th>mean</th>\n",
       "      <td>2010.500000</td>\n",
       "      <td>12.359091</td>\n",
       "      <td>8.790909</td>\n",
       "      <td>0.514103</td>\n",
       "      <td>6.488326e+07</td>\n",
       "    </tr>\n",
       "    <tr>\n",
       "      <th>std</th>\n",
       "      <td>6.493587</td>\n",
       "      <td>0.753189</td>\n",
       "      <td>0.428629</td>\n",
       "      <td>0.172906</td>\n",
       "      <td>2.137446e+06</td>\n",
       "    </tr>\n",
       "    <tr>\n",
       "      <th>min</th>\n",
       "      <td>2000.000000</td>\n",
       "      <td>10.900000</td>\n",
       "      <td>8.300000</td>\n",
       "      <td>0.263855</td>\n",
       "      <td>6.092138e+07</td>\n",
       "    </tr>\n",
       "    <tr>\n",
       "      <th>25%</th>\n",
       "      <td>2005.250000</td>\n",
       "      <td>11.850000</td>\n",
       "      <td>8.500000</td>\n",
       "      <td>0.356301</td>\n",
       "      <td>6.329836e+07</td>\n",
       "    </tr>\n",
       "    <tr>\n",
       "      <th>50%</th>\n",
       "      <td>2010.500000</td>\n",
       "      <td>12.750000</td>\n",
       "      <td>8.750000</td>\n",
       "      <td>0.502962</td>\n",
       "      <td>6.518790e+07</td>\n",
       "    </tr>\n",
       "    <tr>\n",
       "      <th>75%</th>\n",
       "      <td>2015.750000</td>\n",
       "      <td>12.875000</td>\n",
       "      <td>9.050000</td>\n",
       "      <td>0.691976</td>\n",
       "      <td>6.668015e+07</td>\n",
       "    </tr>\n",
       "    <tr>\n",
       "      <th>max</th>\n",
       "      <td>2021.000000</td>\n",
       "      <td>13.300000</td>\n",
       "      <td>9.900000</td>\n",
       "      <td>0.749918</td>\n",
       "      <td>6.776430e+07</td>\n",
       "    </tr>\n",
       "  </tbody>\n",
       "</table>\n",
       "</div>"
      ],
      "text/plain": [
       "              Year  Birth Rate  Death_Rate  population_growth_rate  \\\n",
       "count    22.000000   22.000000   22.000000               22.000000   \n",
       "mean   2010.500000   12.359091    8.790909                0.514103   \n",
       "std       6.493587    0.753189    0.428629                0.172906   \n",
       "min    2000.000000   10.900000    8.300000                0.263855   \n",
       "25%    2005.250000   11.850000    8.500000                0.356301   \n",
       "50%    2010.500000   12.750000    8.750000                0.502962   \n",
       "75%    2015.750000   12.875000    9.050000                0.691976   \n",
       "max    2021.000000   13.300000    9.900000                0.749918   \n",
       "\n",
       "       Population_total  \n",
       "count      2.200000e+01  \n",
       "mean       6.488326e+07  \n",
       "std        2.137446e+06  \n",
       "min        6.092138e+07  \n",
       "25%        6.329836e+07  \n",
       "50%        6.518790e+07  \n",
       "75%        6.668015e+07  \n",
       "max        6.776430e+07  "
      ]
     },
     "execution_count": 5,
     "metadata": {},
     "output_type": "execute_result"
    }
   ],
   "source": [
    "df_FR.describe(include='all')"
   ]
  },
  {
   "cell_type": "code",
   "execution_count": 6,
   "metadata": {},
   "outputs": [
    {
     "data": {
      "text/plain": [
       "Year                      False\n",
       "Birth Rate                False\n",
       "Death_Rate                False\n",
       "population_growth_rate    False\n",
       "Population_total          False\n",
       "dtype: bool"
      ]
     },
     "execution_count": 6,
     "metadata": {},
     "output_type": "execute_result"
    }
   ],
   "source": [
    "df_FR.isnull().any()"
   ]
  },
  {
   "cell_type": "markdown",
   "metadata": {},
   "source": [
    "## 2. Preprocessing"
   ]
  },
  {
   "cell_type": "markdown",
   "metadata": {},
   "source": [
    "*  First Model- 3 features: Birth rate, Death rate and Population growth rate"
   ]
  },
  {
   "cell_type": "code",
   "execution_count": 7,
   "metadata": {},
   "outputs": [],
   "source": [
    "# Separate target vatiable from features \n",
    "feature_list = df_FR.columns[1: -1]\n",
    "X = df_FR.loc[:,feature_list]\n",
    "Y = df_FR.loc[:,'Population_total']"
   ]
  },
  {
   "cell_type": "code",
   "execution_count": 8,
   "metadata": {},
   "outputs": [],
   "source": [
    "# split dataset into train set and test set\n",
    "X_train, X_test, Y_train, Y_test = train_test_split(X, Y, test_size=0.2, random_state=0)"
   ]
  },
  {
   "cell_type": "code",
   "execution_count": 9,
   "metadata": {},
   "outputs": [],
   "source": [
    "# Standardizing numeric features on train set\n",
    "feature_encoder = ColumnTransformer(transformers=[('num', StandardScaler(), feature_list)])\n",
    "X_train= feature_encoder.fit_transform(X_train)"
   ]
  },
  {
   "cell_type": "code",
   "execution_count": 10,
   "metadata": {},
   "outputs": [
    {
     "name": "stdout",
     "output_type": "stream",
     "text": [
      "[[-2.01992249  2.48641679 -1.46257607]\n",
      " [ 0.4623919  -0.99141935 -0.21067418]\n",
      " [-1.60620343  0.88126165 -1.01911667]\n",
      " [ 0.7382046  -0.7238935   0.21762321]\n",
      " [ 1.01401731 -1.25894521  0.99644554]]\n"
     ]
    }
   ],
   "source": [
    "print(X_train[0:5,:])"
   ]
  },
  {
   "cell_type": "code",
   "execution_count": 11,
   "metadata": {},
   "outputs": [],
   "source": [
    "#Standardzing numeric features on Test set\n",
    "X_test = feature_encoder.transform(X_test)"
   ]
  },
  {
   "cell_type": "code",
   "execution_count": 12,
   "metadata": {},
   "outputs": [
    {
     "name": "stdout",
     "output_type": "stream",
     "text": [
      "[[-2.01992249  3.0214685  -1.41969569]\n",
      " [ 0.7382046  -0.7238935  -0.15274516]\n",
      " [ 0.04867283 -0.99141935 -0.2933283 ]\n",
      " [ 0.04867283 -0.18884178 -0.01706029]\n",
      " [ 1.01401731  0.07868408  1.20081019]]\n"
     ]
    }
   ],
   "source": [
    "print(X_test[:5])"
   ]
  },
  {
   "cell_type": "markdown",
   "metadata": {},
   "source": [
    "## 3. Build models"
   ]
  },
  {
   "cell_type": "code",
   "execution_count": 13,
   "metadata": {},
   "outputs": [
    {
     "data": {
      "text/html": [
       "<style>#sk-container-id-1 {color: black;}#sk-container-id-1 pre{padding: 0;}#sk-container-id-1 div.sk-toggleable {background-color: white;}#sk-container-id-1 label.sk-toggleable__label {cursor: pointer;display: block;width: 100%;margin-bottom: 0;padding: 0.3em;box-sizing: border-box;text-align: center;}#sk-container-id-1 label.sk-toggleable__label-arrow:before {content: \"▸\";float: left;margin-right: 0.25em;color: #696969;}#sk-container-id-1 label.sk-toggleable__label-arrow:hover:before {color: black;}#sk-container-id-1 div.sk-estimator:hover label.sk-toggleable__label-arrow:before {color: black;}#sk-container-id-1 div.sk-toggleable__content {max-height: 0;max-width: 0;overflow: hidden;text-align: left;background-color: #f0f8ff;}#sk-container-id-1 div.sk-toggleable__content pre {margin: 0.2em;color: black;border-radius: 0.25em;background-color: #f0f8ff;}#sk-container-id-1 input.sk-toggleable__control:checked~div.sk-toggleable__content {max-height: 200px;max-width: 100%;overflow: auto;}#sk-container-id-1 input.sk-toggleable__control:checked~label.sk-toggleable__label-arrow:before {content: \"▾\";}#sk-container-id-1 div.sk-estimator input.sk-toggleable__control:checked~label.sk-toggleable__label {background-color: #d4ebff;}#sk-container-id-1 div.sk-label input.sk-toggleable__control:checked~label.sk-toggleable__label {background-color: #d4ebff;}#sk-container-id-1 input.sk-hidden--visually {border: 0;clip: rect(1px 1px 1px 1px);clip: rect(1px, 1px, 1px, 1px);height: 1px;margin: -1px;overflow: hidden;padding: 0;position: absolute;width: 1px;}#sk-container-id-1 div.sk-estimator {font-family: monospace;background-color: #f0f8ff;border: 1px dotted black;border-radius: 0.25em;box-sizing: border-box;margin-bottom: 0.5em;}#sk-container-id-1 div.sk-estimator:hover {background-color: #d4ebff;}#sk-container-id-1 div.sk-parallel-item::after {content: \"\";width: 100%;border-bottom: 1px solid gray;flex-grow: 1;}#sk-container-id-1 div.sk-label:hover label.sk-toggleable__label {background-color: #d4ebff;}#sk-container-id-1 div.sk-serial::before {content: \"\";position: absolute;border-left: 1px solid gray;box-sizing: border-box;top: 0;bottom: 0;left: 50%;z-index: 0;}#sk-container-id-1 div.sk-serial {display: flex;flex-direction: column;align-items: center;background-color: white;padding-right: 0.2em;padding-left: 0.2em;position: relative;}#sk-container-id-1 div.sk-item {position: relative;z-index: 1;}#sk-container-id-1 div.sk-parallel {display: flex;align-items: stretch;justify-content: center;background-color: white;position: relative;}#sk-container-id-1 div.sk-item::before, #sk-container-id-1 div.sk-parallel-item::before {content: \"\";position: absolute;border-left: 1px solid gray;box-sizing: border-box;top: 0;bottom: 0;left: 50%;z-index: -1;}#sk-container-id-1 div.sk-parallel-item {display: flex;flex-direction: column;z-index: 1;position: relative;background-color: white;}#sk-container-id-1 div.sk-parallel-item:first-child::after {align-self: flex-end;width: 50%;}#sk-container-id-1 div.sk-parallel-item:last-child::after {align-self: flex-start;width: 50%;}#sk-container-id-1 div.sk-parallel-item:only-child::after {width: 0;}#sk-container-id-1 div.sk-dashed-wrapped {border: 1px dashed gray;margin: 0 0.4em 0.5em 0.4em;box-sizing: border-box;padding-bottom: 0.4em;background-color: white;}#sk-container-id-1 div.sk-label label {font-family: monospace;font-weight: bold;display: inline-block;line-height: 1.2em;}#sk-container-id-1 div.sk-label-container {text-align: center;}#sk-container-id-1 div.sk-container {/* jupyter's `normalize.less` sets `[hidden] { display: none; }` but bootstrap.min.css set `[hidden] { display: none !important; }` so we also need the `!important` here to be able to override the default hidden behavior on the sphinx rendered scikit-learn.org. See: https://github.com/scikit-learn/scikit-learn/issues/21755 */display: inline-block !important;position: relative;}#sk-container-id-1 div.sk-text-repr-fallback {display: none;}</style><div id=\"sk-container-id-1\" class=\"sk-top-container\"><div class=\"sk-text-repr-fallback\"><pre>LinearRegression()</pre><b>In a Jupyter environment, please rerun this cell to show the HTML representation or trust the notebook. <br />On GitHub, the HTML representation is unable to render, please try loading this page with nbviewer.org.</b></div><div class=\"sk-container\" hidden><div class=\"sk-item\"><div class=\"sk-estimator sk-toggleable\"><input class=\"sk-toggleable__control sk-hidden--visually\" id=\"sk-estimator-id-1\" type=\"checkbox\" checked><label for=\"sk-estimator-id-1\" class=\"sk-toggleable__label sk-toggleable__label-arrow\">LinearRegression</label><div class=\"sk-toggleable__content\"><pre>LinearRegression()</pre></div></div></div></div></div>"
      ],
      "text/plain": [
       "LinearRegression()"
      ]
     },
     "execution_count": 13,
     "metadata": {},
     "output_type": "execute_result"
    }
   ],
   "source": [
    "# Train Model\n",
    "regressor = LinearRegression()\n",
    "regressor.fit(X_train, Y_train)"
   ]
  },
  {
   "cell_type": "code",
   "execution_count": 14,
   "metadata": {},
   "outputs": [
    {
     "name": "stdout",
     "output_type": "stream",
     "text": [
      "[67360702.10134804 65218888.46365892 67450839.105946   64112321.79820926\n",
      " 63133986.05692938]\n"
     ]
    }
   ],
   "source": [
    "#Prediction on Traing set\n",
    "Y_train_predict = regressor.predict(X_train)\n",
    "print(Y_train_predict[:5])"
   ]
  },
  {
   "cell_type": "code",
   "execution_count": 15,
   "metadata": {},
   "outputs": [
    {
     "name": "stdout",
     "output_type": "stream",
     "text": [
      "[66907574.94774146 64604657.53844152 65837505.07867579 64876069.72894011\n",
      " 61872007.15082061]\n"
     ]
    }
   ],
   "source": [
    "# Prediction on test set\n",
    "Y_test_predict = regressor.predict(X_test)\n",
    "print(Y_test_predict[:5])"
   ]
  },
  {
   "cell_type": "code",
   "execution_count": 16,
   "metadata": {},
   "outputs": [
    {
     "name": "stdout",
     "output_type": "stream",
     "text": [
      "Frist model\n",
      "R2 score on training set is : 0.9543851411568954\n",
      "R2 score on test set is :  0.8932672878264877\n"
     ]
    }
   ],
   "source": [
    "#Evaluate model\n",
    "print('Frist model')\n",
    "print(\"R2 score on training set is :\", regressor.score(X_train, Y_train))\n",
    "print(\"R2 score on test set is : \", regressor.score(X_test, Y_test))"
   ]
  },
  {
   "cell_type": "markdown",
   "metadata": {},
   "source": [
    "* Second Model- two features: Birth rate & Death rate"
   ]
  },
  {
   "cell_type": "code",
   "execution_count": 17,
   "metadata": {},
   "outputs": [],
   "source": [
    "# try another model only use 2 features: birth rate and death rate, since population growth rate is quite correlated with birth & death rate\n",
    "feature_list2 = df_FR.columns[1: -2]\n",
    "X2 = df_FR.loc[:,feature_list]\n",
    "X2_train, X2_test, Y2_train, Y2_test = train_test_split(X2, Y, test_size=0.2, random_state=0)\n",
    "feature_encoder2 = ColumnTransformer(transformers=[('num', StandardScaler(), feature_list2)])\n",
    "X2_train= feature_encoder2.fit_transform(X2_train)\n",
    "X2_test = feature_encoder2.transform(X2_test)\n",
    "regressor.fit(X2_train, Y2_train)\n",
    "Y2_train_predict = regressor.predict(X2_train)\n",
    "Y2_test_predict = regressor.predict(X2_test)"
   ]
  },
  {
   "cell_type": "code",
   "execution_count": 18,
   "metadata": {},
   "outputs": [
    {
     "name": "stdout",
     "output_type": "stream",
     "text": [
      "Second model\n",
      "R2 score on training set is : 0.8548453841466994\n",
      "R2 score on test set is :  0.778023239844316\n"
     ]
    }
   ],
   "source": [
    "print('Second model')\n",
    "print(\"R2 score on training set is :\", regressor.score(X2_train, Y2_train))\n",
    "print(\"R2 score on test set is : \", regressor.score(X2_test, Y2_test))"
   ]
  },
  {
   "cell_type": "markdown",
   "metadata": {},
   "source": [
    " * Third Model- 3 features: Year, Birth rate & Death rate"
   ]
  },
  {
   "cell_type": "code",
   "execution_count": 19,
   "metadata": {},
   "outputs": [],
   "source": [
    "# try third model adding Year as a feature\n",
    "feature_list3 = df_FR.columns[: -2]\n",
    "X3 = df_FR.loc[:,feature_list3]\n",
    "X3_train, X3_test, Y3_train, Y3_test = train_test_split(X3, Y, test_size=0.2, random_state=0)\n",
    "feature_encoder3 = ColumnTransformer(transformers=[('num', StandardScaler(), feature_list3)])\n",
    "X3_train= feature_encoder3.fit_transform(X3_train)\n",
    "X3_test = feature_encoder3.transform(X3_test)\n",
    "regressor.fit(X3_train, Y3_train)\n",
    "Y3_train_predict = regressor.predict(X3_train)\n",
    "Y3_test_predict = regressor.predict(X3_test)"
   ]
  },
  {
   "cell_type": "code",
   "execution_count": 20,
   "metadata": {},
   "outputs": [
    {
     "name": "stdout",
     "output_type": "stream",
     "text": [
      "Third model\n",
      "R2 score on training set is : 0.997129576914723\n",
      "R2 score on test set is :  0.9953082088657151\n"
     ]
    }
   ],
   "source": [
    "print('Third model')\n",
    "print(\"R2 score on training set is :\", regressor.score(X3_train, Y3_train))\n",
    "print(\"R2 score on test set is : \", regressor.score(X3_test, Y3_test))"
   ]
  },
  {
   "cell_type": "markdown",
   "metadata": {},
   "source": [
    "## 4. Assessement of models' performance by RMSE"
   ]
  },
  {
   "cell_type": "code",
   "execution_count": 21,
   "metadata": {},
   "outputs": [
    {
     "name": "stdout",
     "output_type": "stream",
     "text": [
      "First model's RMSE is  688462.0279270854\n"
     ]
    }
   ],
   "source": [
    "print (\"First model's RMSE is \", np.sqrt(metrics.mean_squared_error(Y_test, Y_test_predict)))"
   ]
  },
  {
   "cell_type": "code",
   "execution_count": 22,
   "metadata": {},
   "outputs": [
    {
     "name": "stdout",
     "output_type": "stream",
     "text": [
      "Second model's RMSE is  992853.0477199681\n"
     ]
    }
   ],
   "source": [
    "print (\"Second model's RMSE is \", np.sqrt(metrics.mean_squared_error(Y2_test, Y2_test_predict)))"
   ]
  },
  {
   "cell_type": "code",
   "execution_count": 23,
   "metadata": {},
   "outputs": [
    {
     "name": "stdout",
     "output_type": "stream",
     "text": [
      "Third model's RMSE is  144344.60427487188\n"
     ]
    }
   ],
   "source": [
    "print (\"Third model's RMSE is \", np.sqrt(metrics.mean_squared_error(Y3_test, Y3_test_predict)))"
   ]
  },
  {
   "cell_type": "markdown",
   "metadata": {},
   "source": [
    "### The Winner is the third model with 3 features: Year, Birth rate & Death rate ."
   ]
  }
 ],
 "metadata": {
  "kernelspec": {
   "display_name": "Python 3",
   "language": "python",
   "name": "python3"
  },
  "language_info": {
   "codemirror_mode": {
    "name": "ipython",
    "version": 3
   },
   "file_extension": ".py",
   "mimetype": "text/x-python",
   "name": "python",
   "nbconvert_exporter": "python",
   "pygments_lexer": "ipython3",
   "version": "3.11.4"
  }
 },
 "nbformat": 4,
 "nbformat_minor": 2
}
